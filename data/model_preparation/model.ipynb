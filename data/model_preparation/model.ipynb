{
 "cells": [
  {
   "cell_type": "code",
   "execution_count": 3,
   "metadata": {},
   "outputs": [],
   "source": [
    "import pandas as pd\n",
    "import numpy as np\n",
    "import pickle\n",
    "from sklearn.linear_model import LinearRegression\n",
    "from sklearn.preprocessing import LabelEncoder"
   ]
  },
  {
   "cell_type": "code",
   "execution_count": 4,
   "metadata": {},
   "outputs": [],
   "source": [
    "# Adaptar a las rutas de los archivos\n",
    "eventos = pd.read_json(\"../../simulation.jsonlines\", lines=True)\n",
    "planes = pd.read_json(\"../../plans.jsonlines\", lines=True)"
   ]
  },
  {
   "cell_type": "code",
   "execution_count": 5,
   "metadata": {},
   "outputs": [
    {
     "data": {
      "text/plain": [
       "array(['Truck departed', 'Truck initialized', 'Truck received packets',\n",
       "       'Truck arrived', 'Truck started delivering',\n",
       "       'Truck ended delivering', 'Truck departed to depot',\n",
       "       'Truck ended route'], dtype=object)"
      ]
     },
     "execution_count": 5,
     "metadata": {},
     "output_type": "execute_result"
    }
   ],
   "source": [
    "eventos.eventType.unique()"
   ]
  },
  {
   "cell_type": "code",
   "execution_count": 6,
   "metadata": {},
   "outputs": [
    {
     "data": {
      "text/plain": [
       "Index(['eventDescription', 'eventTime', 'eventType', 'simulationId',\n",
       "       'truckId'],\n",
       "      dtype='object')"
      ]
     },
     "execution_count": 6,
     "metadata": {},
     "output_type": "execute_result"
    }
   ],
   "source": [
    "eventos.columns"
   ]
  },
  {
   "cell_type": "markdown",
   "metadata": {},
   "source": [
    "## Tiempo de viaje de Camiones "
   ]
  },
  {
   "cell_type": "code",
   "execution_count": 7,
   "metadata": {},
   "outputs": [],
   "source": [
    "camiones = []\n",
    "for simId in planes.simulationId.unique():\n",
    "    for truck in planes[planes.simulationId == simId].trucks.values[0]:\n",
    "        camiones.append(pd.DataFrame(truck[\"route\"]).assign(simulationId=simId, truckId=truck[\"truck_id\"]))\n",
    "camiones = pd.concat(camiones)"
   ]
  },
  {
   "cell_type": "code",
   "execution_count": 8,
   "metadata": {},
   "outputs": [
    {
     "data": {
      "text/html": [
       "<div>\n",
       "<style scoped>\n",
       "    .dataframe tbody tr th:only-of-type {\n",
       "        vertical-align: middle;\n",
       "    }\n",
       "\n",
       "    .dataframe tbody tr th {\n",
       "        vertical-align: top;\n",
       "    }\n",
       "\n",
       "    .dataframe thead th {\n",
       "        text-align: right;\n",
       "    }\n",
       "</style>\n",
       "<table border=\"1\" class=\"dataframe\">\n",
       "  <thead>\n",
       "    <tr style=\"text-align: right;\">\n",
       "      <th></th>\n",
       "      <th>simulationId</th>\n",
       "      <th>truckId</th>\n",
       "      <th>tiempo_plan</th>\n",
       "    </tr>\n",
       "  </thead>\n",
       "  <tbody>\n",
       "    <tr>\n",
       "      <th>0</th>\n",
       "      <td>007f3d08-14a7-4a93-af9e-f0d9cfbcea94</td>\n",
       "      <td>3321FBL</td>\n",
       "      <td>[614000, 397000, 259000, 349000, 384000, 26800...</td>\n",
       "    </tr>\n",
       "    <tr>\n",
       "      <th>1</th>\n",
       "      <td>007f3d08-14a7-4a93-af9e-f0d9cfbcea94</td>\n",
       "      <td>3953RLD</td>\n",
       "      <td>[4164000, 4064000]</td>\n",
       "    </tr>\n",
       "    <tr>\n",
       "      <th>2</th>\n",
       "      <td>007f3d08-14a7-4a93-af9e-f0d9cfbcea94</td>\n",
       "      <td>5030LXK</td>\n",
       "      <td>[189000, 1522000, 1655000, 1125000, 2093000, 6...</td>\n",
       "    </tr>\n",
       "    <tr>\n",
       "      <th>3</th>\n",
       "      <td>007f3d08-14a7-4a93-af9e-f0d9cfbcea94</td>\n",
       "      <td>5534TPH</td>\n",
       "      <td>[630000, 496000, 725000, 680000, 491000, 53400...</td>\n",
       "    </tr>\n",
       "    <tr>\n",
       "      <th>4</th>\n",
       "      <td>007f3d08-14a7-4a93-af9e-f0d9cfbcea94</td>\n",
       "      <td>6270NFM</td>\n",
       "      <td>[621000, 130000, 294000, 74000, 403000]</td>\n",
       "    </tr>\n",
       "    <tr>\n",
       "      <th>...</th>\n",
       "      <td>...</td>\n",
       "      <td>...</td>\n",
       "      <td>...</td>\n",
       "    </tr>\n",
       "    <tr>\n",
       "      <th>635</th>\n",
       "      <td>fea13535-ade6-4215-96ca-dab5b4ef309b</td>\n",
       "      <td>0013DYS</td>\n",
       "      <td>[3714000, 3663000]</td>\n",
       "    </tr>\n",
       "    <tr>\n",
       "      <th>636</th>\n",
       "      <td>fea13535-ade6-4215-96ca-dab5b4ef309b</td>\n",
       "      <td>3953RLD</td>\n",
       "      <td>[208000, 670000, 260000, 492000, 178000, 79900...</td>\n",
       "    </tr>\n",
       "    <tr>\n",
       "      <th>637</th>\n",
       "      <td>fea13535-ade6-4215-96ca-dab5b4ef309b</td>\n",
       "      <td>5534TPH</td>\n",
       "      <td>[589000, 909000, 725000, 455000, 297000, 82900...</td>\n",
       "    </tr>\n",
       "    <tr>\n",
       "      <th>638</th>\n",
       "      <td>fea13535-ade6-4215-96ca-dab5b4ef309b</td>\n",
       "      <td>6270NFM</td>\n",
       "      <td>[445000, 223000, 219000, 408000, 1538000, 1591...</td>\n",
       "    </tr>\n",
       "    <tr>\n",
       "      <th>639</th>\n",
       "      <td>fea13535-ade6-4215-96ca-dab5b4ef309b</td>\n",
       "      <td>6965XLY</td>\n",
       "      <td>[324000, 1721000, 157000, 300000, 2620000, 472...</td>\n",
       "    </tr>\n",
       "  </tbody>\n",
       "</table>\n",
       "<p>640 rows × 3 columns</p>\n",
       "</div>"
      ],
      "text/plain": [
       "                             simulationId  truckId  \\\n",
       "0    007f3d08-14a7-4a93-af9e-f0d9cfbcea94  3321FBL   \n",
       "1    007f3d08-14a7-4a93-af9e-f0d9cfbcea94  3953RLD   \n",
       "2    007f3d08-14a7-4a93-af9e-f0d9cfbcea94  5030LXK   \n",
       "3    007f3d08-14a7-4a93-af9e-f0d9cfbcea94  5534TPH   \n",
       "4    007f3d08-14a7-4a93-af9e-f0d9cfbcea94  6270NFM   \n",
       "..                                    ...      ...   \n",
       "635  fea13535-ade6-4215-96ca-dab5b4ef309b  0013DYS   \n",
       "636  fea13535-ade6-4215-96ca-dab5b4ef309b  3953RLD   \n",
       "637  fea13535-ade6-4215-96ca-dab5b4ef309b  5534TPH   \n",
       "638  fea13535-ade6-4215-96ca-dab5b4ef309b  6270NFM   \n",
       "639  fea13535-ade6-4215-96ca-dab5b4ef309b  6965XLY   \n",
       "\n",
       "                                           tiempo_plan  \n",
       "0    [614000, 397000, 259000, 349000, 384000, 26800...  \n",
       "1                                   [4164000, 4064000]  \n",
       "2    [189000, 1522000, 1655000, 1125000, 2093000, 6...  \n",
       "3    [630000, 496000, 725000, 680000, 491000, 53400...  \n",
       "4              [621000, 130000, 294000, 74000, 403000]  \n",
       "..                                                 ...  \n",
       "635                                 [3714000, 3663000]  \n",
       "636  [208000, 670000, 260000, 492000, 178000, 79900...  \n",
       "637  [589000, 909000, 725000, 455000, 297000, 82900...  \n",
       "638  [445000, 223000, 219000, 408000, 1538000, 1591...  \n",
       "639  [324000, 1721000, 157000, 300000, 2620000, 472...  \n",
       "\n",
       "[640 rows x 3 columns]"
      ]
     },
     "execution_count": 8,
     "metadata": {},
     "output_type": "execute_result"
    }
   ],
   "source": [
    "tiempos_plan = camiones.sort_values([\"simulationId\",\"truckId\"]).assign(duration=lambda x: x[\"duration\"]*1000).groupby([\"simulationId\",\"truckId\"]).duration.agg(list).reset_index()\n",
    "tiempos_plan.rename(columns={\"duration\":\"tiempo_plan\"}, inplace=True)\n",
    "tiempos_plan"
   ]
  },
  {
   "cell_type": "markdown",
   "metadata": {},
   "source": [
    "En la tabla anterior podemos ver un dataset con el id de cada uno de los camiones , el tiempo estimado de viaje, y el tiempo real "
   ]
  },
  {
   "cell_type": "code",
   "execution_count": 9,
   "metadata": {},
   "outputs": [
    {
     "data": {
      "text/html": [
       "<div>\n",
       "<style scoped>\n",
       "    .dataframe tbody tr th:only-of-type {\n",
       "        vertical-align: middle;\n",
       "    }\n",
       "\n",
       "    .dataframe tbody tr th {\n",
       "        vertical-align: top;\n",
       "    }\n",
       "\n",
       "    .dataframe thead th {\n",
       "        text-align: right;\n",
       "    }\n",
       "</style>\n",
       "<table border=\"1\" class=\"dataframe\">\n",
       "  <thead>\n",
       "    <tr style=\"text-align: right;\">\n",
       "      <th></th>\n",
       "      <th>simulationId</th>\n",
       "      <th>truckId</th>\n",
       "      <th>tiempo_sim</th>\n",
       "    </tr>\n",
       "  </thead>\n",
       "  <tbody>\n",
       "    <tr>\n",
       "      <th>0</th>\n",
       "      <td>007f3d08-14a7-4a93-af9e-f0d9cfbcea94</td>\n",
       "      <td>3321FBL</td>\n",
       "      <td>[0.0, 482520.0, 311850.0, 418680.0, 458820.0, ...</td>\n",
       "    </tr>\n",
       "    <tr>\n",
       "      <th>1</th>\n",
       "      <td>007f3d08-14a7-4a93-af9e-f0d9cfbcea94</td>\n",
       "      <td>3953RLD</td>\n",
       "      <td>[0.0, 4524090.0]</td>\n",
       "    </tr>\n",
       "    <tr>\n",
       "      <th>2</th>\n",
       "      <td>007f3d08-14a7-4a93-af9e-f0d9cfbcea94</td>\n",
       "      <td>5030LXK</td>\n",
       "      <td>[231120.0, 1811130.0, 1950900.0, 0.0, 2418600....</td>\n",
       "    </tr>\n",
       "    <tr>\n",
       "      <th>3</th>\n",
       "      <td>007f3d08-14a7-4a93-af9e-f0d9cfbcea94</td>\n",
       "      <td>5534TPH</td>\n",
       "      <td>[791640.0, 618480.0, 894330.0, 827790.0, 59145...</td>\n",
       "    </tr>\n",
       "    <tr>\n",
       "      <th>4</th>\n",
       "      <td>007f3d08-14a7-4a93-af9e-f0d9cfbcea94</td>\n",
       "      <td>6270NFM</td>\n",
       "      <td>[776190.0, 161310.0, 357180.0, 88740.0, 474390.0]</td>\n",
       "    </tr>\n",
       "    <tr>\n",
       "      <th>...</th>\n",
       "      <td>...</td>\n",
       "      <td>...</td>\n",
       "      <td>...</td>\n",
       "    </tr>\n",
       "    <tr>\n",
       "      <th>635</th>\n",
       "      <td>fea13535-ade6-4215-96ca-dab5b4ef309b</td>\n",
       "      <td>0013DYS</td>\n",
       "      <td>[3901230.0, 3846930.0]</td>\n",
       "    </tr>\n",
       "    <tr>\n",
       "      <th>636</th>\n",
       "      <td>fea13535-ade6-4215-96ca-dab5b4ef309b</td>\n",
       "      <td>3953RLD</td>\n",
       "      <td>[252840.0, 801060.0, 310980.0, 0.0, 210720.0, ...</td>\n",
       "    </tr>\n",
       "    <tr>\n",
       "      <th>637</th>\n",
       "      <td>fea13535-ade6-4215-96ca-dab5b4ef309b</td>\n",
       "      <td>5534TPH</td>\n",
       "      <td>[723990.0, 1106700.0, 871290.0, 545490.0, 3529...</td>\n",
       "    </tr>\n",
       "    <tr>\n",
       "      <th>638</th>\n",
       "      <td>fea13535-ade6-4215-96ca-dab5b4ef309b</td>\n",
       "      <td>6270NFM</td>\n",
       "      <td>[576960.0, 287250.0, 278220.0, 516150.0, 19308...</td>\n",
       "    </tr>\n",
       "    <tr>\n",
       "      <th>639</th>\n",
       "      <td>fea13535-ade6-4215-96ca-dab5b4ef309b</td>\n",
       "      <td>6965XLY</td>\n",
       "      <td>[420690.0, 2215560.0, 198720.0, 372420.0, 3208...</td>\n",
       "    </tr>\n",
       "  </tbody>\n",
       "</table>\n",
       "<p>640 rows × 3 columns</p>\n",
       "</div>"
      ],
      "text/plain": [
       "                             simulationId  truckId  \\\n",
       "0    007f3d08-14a7-4a93-af9e-f0d9cfbcea94  3321FBL   \n",
       "1    007f3d08-14a7-4a93-af9e-f0d9cfbcea94  3953RLD   \n",
       "2    007f3d08-14a7-4a93-af9e-f0d9cfbcea94  5030LXK   \n",
       "3    007f3d08-14a7-4a93-af9e-f0d9cfbcea94  5534TPH   \n",
       "4    007f3d08-14a7-4a93-af9e-f0d9cfbcea94  6270NFM   \n",
       "..                                    ...      ...   \n",
       "635  fea13535-ade6-4215-96ca-dab5b4ef309b  0013DYS   \n",
       "636  fea13535-ade6-4215-96ca-dab5b4ef309b  3953RLD   \n",
       "637  fea13535-ade6-4215-96ca-dab5b4ef309b  5534TPH   \n",
       "638  fea13535-ade6-4215-96ca-dab5b4ef309b  6270NFM   \n",
       "639  fea13535-ade6-4215-96ca-dab5b4ef309b  6965XLY   \n",
       "\n",
       "                                            tiempo_sim  \n",
       "0    [0.0, 482520.0, 311850.0, 418680.0, 458820.0, ...  \n",
       "1                                     [0.0, 4524090.0]  \n",
       "2    [231120.0, 1811130.0, 1950900.0, 0.0, 2418600....  \n",
       "3    [791640.0, 618480.0, 894330.0, 827790.0, 59145...  \n",
       "4    [776190.0, 161310.0, 357180.0, 88740.0, 474390.0]  \n",
       "..                                                 ...  \n",
       "635                             [3901230.0, 3846930.0]  \n",
       "636  [252840.0, 801060.0, 310980.0, 0.0, 210720.0, ...  \n",
       "637  [723990.0, 1106700.0, 871290.0, 545490.0, 3529...  \n",
       "638  [576960.0, 287250.0, 278220.0, 516150.0, 19308...  \n",
       "639  [420690.0, 2215560.0, 198720.0, 372420.0, 3208...  \n",
       "\n",
       "[640 rows x 3 columns]"
      ]
     },
     "execution_count": 9,
     "metadata": {},
     "output_type": "execute_result"
    }
   ],
   "source": [
    "eventos = eventos.sort_values([\"simulationId\", \"truckId\", \"eventTime\"])\n",
    "eventos[\"prev_event\"] = eventos.groupby([\"truckId\", \"simulationId\"])[\"eventType\"].shift(1)\n",
    "eventos[\"prev_time\"] = eventos.groupby([\"truckId\", \"simulationId\"])[\"eventTime\"].shift(1)\n",
    "eventos[\"delta\"] = eventos.eventTime - eventos.prev_time\n",
    "tiempos_sim = eventos[eventos.eventType.isin([\"Truck arrived\", \"Truck ended route\"])].sort_values([\"simulationId\",\"truckId\", \"eventTime\"]).groupby([\"simulationId\",\"truckId\"]).delta.agg(list).reset_index()\n",
    "tiempos_sim.rename(columns={\"delta\":\"tiempo_sim\"}, inplace=True)\n",
    "tiempos_sim"
   ]
  },
  {
   "cell_type": "code",
   "execution_count": 10,
   "metadata": {},
   "outputs": [
    {
     "data": {
      "text/html": [
       "<div>\n",
       "<style scoped>\n",
       "    .dataframe tbody tr th:only-of-type {\n",
       "        vertical-align: middle;\n",
       "    }\n",
       "\n",
       "    .dataframe tbody tr th {\n",
       "        vertical-align: top;\n",
       "    }\n",
       "\n",
       "    .dataframe thead th {\n",
       "        text-align: right;\n",
       "    }\n",
       "</style>\n",
       "<table border=\"1\" class=\"dataframe\">\n",
       "  <thead>\n",
       "    <tr style=\"text-align: right;\">\n",
       "      <th></th>\n",
       "      <th>simulationId</th>\n",
       "      <th>truckId</th>\n",
       "      <th>tiempo_sim</th>\n",
       "      <th>tiempo_plan</th>\n",
       "    </tr>\n",
       "  </thead>\n",
       "  <tbody>\n",
       "    <tr>\n",
       "      <th>0</th>\n",
       "      <td>007f3d08-14a7-4a93-af9e-f0d9cfbcea94</td>\n",
       "      <td>3321FBL</td>\n",
       "      <td>[0.0, 482520.0, 311850.0, 418680.0, 458820.0, ...</td>\n",
       "      <td>[614000, 397000, 259000, 349000, 384000, 26800...</td>\n",
       "    </tr>\n",
       "    <tr>\n",
       "      <th>1</th>\n",
       "      <td>007f3d08-14a7-4a93-af9e-f0d9cfbcea94</td>\n",
       "      <td>3953RLD</td>\n",
       "      <td>[0.0, 4524090.0]</td>\n",
       "      <td>[4164000, 4064000]</td>\n",
       "    </tr>\n",
       "    <tr>\n",
       "      <th>2</th>\n",
       "      <td>007f3d08-14a7-4a93-af9e-f0d9cfbcea94</td>\n",
       "      <td>5030LXK</td>\n",
       "      <td>[231120.0, 1811130.0, 1950900.0, 0.0, 2418600....</td>\n",
       "      <td>[189000, 1522000, 1655000, 1125000, 2093000, 6...</td>\n",
       "    </tr>\n",
       "    <tr>\n",
       "      <th>3</th>\n",
       "      <td>007f3d08-14a7-4a93-af9e-f0d9cfbcea94</td>\n",
       "      <td>5534TPH</td>\n",
       "      <td>[791640.0, 618480.0, 894330.0, 827790.0, 59145...</td>\n",
       "      <td>[630000, 496000, 725000, 680000, 491000, 53400...</td>\n",
       "    </tr>\n",
       "    <tr>\n",
       "      <th>4</th>\n",
       "      <td>007f3d08-14a7-4a93-af9e-f0d9cfbcea94</td>\n",
       "      <td>6270NFM</td>\n",
       "      <td>[776190.0, 161310.0, 357180.0, 88740.0, 474390.0]</td>\n",
       "      <td>[621000, 130000, 294000, 74000, 403000]</td>\n",
       "    </tr>\n",
       "    <tr>\n",
       "      <th>...</th>\n",
       "      <td>...</td>\n",
       "      <td>...</td>\n",
       "      <td>...</td>\n",
       "      <td>...</td>\n",
       "    </tr>\n",
       "    <tr>\n",
       "      <th>635</th>\n",
       "      <td>fea13535-ade6-4215-96ca-dab5b4ef309b</td>\n",
       "      <td>0013DYS</td>\n",
       "      <td>[3901230.0, 3846930.0]</td>\n",
       "      <td>[3714000, 3663000]</td>\n",
       "    </tr>\n",
       "    <tr>\n",
       "      <th>636</th>\n",
       "      <td>fea13535-ade6-4215-96ca-dab5b4ef309b</td>\n",
       "      <td>3953RLD</td>\n",
       "      <td>[252840.0, 801060.0, 310980.0, 0.0, 210720.0, ...</td>\n",
       "      <td>[208000, 670000, 260000, 492000, 178000, 79900...</td>\n",
       "    </tr>\n",
       "    <tr>\n",
       "      <th>637</th>\n",
       "      <td>fea13535-ade6-4215-96ca-dab5b4ef309b</td>\n",
       "      <td>5534TPH</td>\n",
       "      <td>[723990.0, 1106700.0, 871290.0, 545490.0, 3529...</td>\n",
       "      <td>[589000, 909000, 725000, 455000, 297000, 82900...</td>\n",
       "    </tr>\n",
       "    <tr>\n",
       "      <th>638</th>\n",
       "      <td>fea13535-ade6-4215-96ca-dab5b4ef309b</td>\n",
       "      <td>6270NFM</td>\n",
       "      <td>[576960.0, 287250.0, 278220.0, 516150.0, 19308...</td>\n",
       "      <td>[445000, 223000, 219000, 408000, 1538000, 1591...</td>\n",
       "    </tr>\n",
       "    <tr>\n",
       "      <th>639</th>\n",
       "      <td>fea13535-ade6-4215-96ca-dab5b4ef309b</td>\n",
       "      <td>6965XLY</td>\n",
       "      <td>[420690.0, 2215560.0, 198720.0, 372420.0, 3208...</td>\n",
       "      <td>[324000, 1721000, 157000, 300000, 2620000, 472...</td>\n",
       "    </tr>\n",
       "  </tbody>\n",
       "</table>\n",
       "<p>640 rows × 4 columns</p>\n",
       "</div>"
      ],
      "text/plain": [
       "                             simulationId  truckId  \\\n",
       "0    007f3d08-14a7-4a93-af9e-f0d9cfbcea94  3321FBL   \n",
       "1    007f3d08-14a7-4a93-af9e-f0d9cfbcea94  3953RLD   \n",
       "2    007f3d08-14a7-4a93-af9e-f0d9cfbcea94  5030LXK   \n",
       "3    007f3d08-14a7-4a93-af9e-f0d9cfbcea94  5534TPH   \n",
       "4    007f3d08-14a7-4a93-af9e-f0d9cfbcea94  6270NFM   \n",
       "..                                    ...      ...   \n",
       "635  fea13535-ade6-4215-96ca-dab5b4ef309b  0013DYS   \n",
       "636  fea13535-ade6-4215-96ca-dab5b4ef309b  3953RLD   \n",
       "637  fea13535-ade6-4215-96ca-dab5b4ef309b  5534TPH   \n",
       "638  fea13535-ade6-4215-96ca-dab5b4ef309b  6270NFM   \n",
       "639  fea13535-ade6-4215-96ca-dab5b4ef309b  6965XLY   \n",
       "\n",
       "                                            tiempo_sim  \\\n",
       "0    [0.0, 482520.0, 311850.0, 418680.0, 458820.0, ...   \n",
       "1                                     [0.0, 4524090.0]   \n",
       "2    [231120.0, 1811130.0, 1950900.0, 0.0, 2418600....   \n",
       "3    [791640.0, 618480.0, 894330.0, 827790.0, 59145...   \n",
       "4    [776190.0, 161310.0, 357180.0, 88740.0, 474390.0]   \n",
       "..                                                 ...   \n",
       "635                             [3901230.0, 3846930.0]   \n",
       "636  [252840.0, 801060.0, 310980.0, 0.0, 210720.0, ...   \n",
       "637  [723990.0, 1106700.0, 871290.0, 545490.0, 3529...   \n",
       "638  [576960.0, 287250.0, 278220.0, 516150.0, 19308...   \n",
       "639  [420690.0, 2215560.0, 198720.0, 372420.0, 3208...   \n",
       "\n",
       "                                           tiempo_plan  \n",
       "0    [614000, 397000, 259000, 349000, 384000, 26800...  \n",
       "1                                   [4164000, 4064000]  \n",
       "2    [189000, 1522000, 1655000, 1125000, 2093000, 6...  \n",
       "3    [630000, 496000, 725000, 680000, 491000, 53400...  \n",
       "4              [621000, 130000, 294000, 74000, 403000]  \n",
       "..                                                 ...  \n",
       "635                                 [3714000, 3663000]  \n",
       "636  [208000, 670000, 260000, 492000, 178000, 79900...  \n",
       "637  [589000, 909000, 725000, 455000, 297000, 82900...  \n",
       "638  [445000, 223000, 219000, 408000, 1538000, 1591...  \n",
       "639  [324000, 1721000, 157000, 300000, 2620000, 472...  \n",
       "\n",
       "[640 rows x 4 columns]"
      ]
     },
     "execution_count": 10,
     "metadata": {},
     "output_type": "execute_result"
    }
   ],
   "source": [
    "retrasos = tiempos_sim.merge(tiempos_plan, on=[\"simulationId\",\"truckId\"]).dropna().reset_index(drop=True)\n",
    "retrasos"
   ]
  },
  {
   "cell_type": "code",
   "execution_count": 11,
   "metadata": {},
   "outputs": [],
   "source": [
    "arr = np.array(retrasos.apply(lambda x: list(zip(x.tiempo_plan, x.tiempo_sim)), axis=1).explode())\n",
    "arr = np.array(arr.tolist())\n",
    "x = arr[:,0].reshape(-1,1) / 1000 #estimated time\n",
    "y = arr[:,1].reshape(-1,1) / 1000 # real time \n"
   ]
  },
  {
   "cell_type": "markdown",
   "metadata": {},
   "source": [
    "## Tiempos de entrega de los paquetes"
   ]
  },
  {
   "cell_type": "code",
   "execution_count": 18,
   "metadata": {},
   "outputs": [],
   "source": [
    "from sklearn.ensemble import RandomForestRegressor\n",
    "from sklearn.model_selection import train_test_split\n",
    "\n",
    "travelmodel = RandomForestRegressor(n_estimators=100)\n",
    "\n",
    "# Split data \n",
    "x_train, x_test, y_train, y_test = train_test_split(x, y.ravel(), test_size=0.3, random_state=42)\n",
    "\n",
    "travelmodel.fit(x_train, y_train)\n",
    "\n",
    "#Make predictions\n",
    "pred_real_time = travelmodel.predict(x_test)\n"
   ]
  },
  {
   "cell_type": "code",
   "execution_count": 19,
   "metadata": {},
   "outputs": [
    {
     "name": "stdout",
     "output_type": "stream",
     "text": [
      "Mean Absolute Error: 218.33829905466237\n",
      "Mean Squared Error: 263334.13972826046\n",
      "Root Mean Squared Error: 513.1609296587771\n",
      "R² Score: 0.7438958108442314\n"
     ]
    }
   ],
   "source": [
    "from sklearn.metrics import mean_absolute_error, mean_squared_error, r2_score\n",
    "# Calculate  métrics\n",
    "mae = mean_absolute_error(y_test, pred_real_time)\n",
    "mse = mean_squared_error(y_test, pred_real_time)\n",
    "rmse = np.sqrt(mse)  # o directamente: mean_squared_error(y_test, pred_real_time, squared=False)\n",
    "r2 = r2_score(y_test, pred_real_time)\n",
    "\n",
    "# Show results\n",
    "print(\"Mean Absolute Error:\", mae)\n",
    "print(\"Mean Squared Error:\", mse)\n",
    "print(\"Root Mean Squared Error:\", rmse)\n",
    "print(\"R² Score:\", r2)"
   ]
  },
  {
   "cell_type": "code",
   "execution_count": 21,
   "metadata": {},
   "outputs": [
    {
     "data": {
      "image/png": "[encoded data removed]",
      "text/plain": [
       "<Figure size 800x600 with 1 Axes>"
      ]
     },
     "metadata": {},
     "output_type": "display_data"
    }
   ],
   "source": [
    "import matplotlib.pyplot as plt\n",
    "\n",
    "plt.figure(figsize=(8,6))\n",
    "plt.scatter(x, y, alpha=0.5, label='Datos')\n",
    "plt.plot(x, x, color='red', label='Línea ideal (y=x)')\n",
    "plt.xlabel('Tiempo estimado (segundos)')\n",
    "plt.ylabel('Tiempo real (segundos)')\n",
    "plt.title('Comparación entre tiempo estimado y real')\n",
    "plt.legend()\n",
    "plt.show()"
   ]
  },
  {
   "cell_type": "code",
   "execution_count": null,
   "metadata": {},
   "outputs": [],
   "source": []
  },
  {
   "cell_type": "code",
   "execution_count": null,
   "metadata": {},
   "outputs": [],
   "source": []
  },
  {
   "cell_type": "code",
   "execution_count": null,
   "metadata": {},
   "outputs": [],
   "source": []
  },
  {
   "cell_type": "code",
   "execution_count": null,
   "metadata": {},
   "outputs": [],
   "source": []
  },
  {
   "cell_type": "code",
   "execution_count": 12,
   "metadata": {},
   "outputs": [],
   "source": [
    "# Entrenar modelo\n",
    "travelModel = LinearRegression()\n",
    "travelModel.fit(x, y)\n",
    "\n",
    "# Guardar modelo\n",
    "with open('travelModel.pkl', 'wb') as f:\n",
    "    pickle.dump(travelModel, f)\n"
   ]
  },
  {
   "cell_type": "code",
   "execution_count": 13,
   "metadata": {},
   "outputs": [],
   "source": [
    "tiemposEntrega = eventos[eventos.eventType==\"Truck ended delivering\"][[\"truckId\", \"delta\"]]\n",
    "\n",
    "# Label encoding\n",
    "le = LabelEncoder()\n",
    "tiemposEntrega[\"truckId\"] = le.fit_transform(tiemposEntrega[\"truckId\"])\n",
    "\n",
    "# Entrenar modelo\n",
    "deliveryModel = LinearRegression()\n",
    "deliveryModel.fit(tiemposEntrega[\"truckId\"].values.reshape(-1,1), tiemposEntrega[\"delta\"].values.reshape(-1,1))\n",
    "\n",
    "# Guardar modelo y label encoder\n",
    "with open('deliveryModel.pkl', 'wb') as f:\n",
    "    pickle.dump(deliveryModel, f)\n",
    "    \n",
    "with open('le.pkl', 'wb') as f:\n",
    "    pickle.dump(le, f)\n"
   ]
  },
  {
   "cell_type": "code",
   "execution_count": null,
   "metadata": {},
   "outputs": [],
   "source": []
  },
  {
   "cell_type": "markdown",
   "metadata": {},
   "source": [
    "## Listamos variables"
   ]
  },
  {
   "cell_type": "code",
   "execution_count": null,
   "metadata": {},
   "outputs": [],
   "source": [
    "entregas "
   ]
  }
 ],
 "metadata": {
  "kernelspec": {
   "display_name": "Python 3 (ipykernel)",
   "language": "python",
   "name": "python3"
  },
  "language_info": {
   "codemirror_mode": {
    "name": "ipython",
    "version": 3
   },
   "file_extension": ".py",
   "mimetype": "text/x-python",
   "name": "python",
   "nbconvert_exporter": "python",
   "pygments_lexer": "ipython3",
   "version": "3.9.21"
  }
 },
 "nbformat": 4,
 "nbformat_minor": 4
}
